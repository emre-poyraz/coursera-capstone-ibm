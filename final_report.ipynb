{
 "cells": [
  {
   "cell_type": "markdown",
   "metadata": {},
   "source": [
    "# Opening A Cafe In London#"
   ]
  },
  {
   "cell_type": "markdown",
   "metadata": {},
   "source": [
    "### Introduction###"
   ]
  },
  {
   "cell_type": "markdown",
   "metadata": {},
   "source": [
    "We are a data science & analytics company in London. We recently had a new client, Sally Python, who wants to open a cafe in London. Sally doesnt know London very well, since she grew up someplace else."
   ]
  },
  {
   "cell_type": "markdown",
   "metadata": {},
   "source": [
    "Sally came to us for consulting. She mentioned she wanted to open a cafe, but there was a catch: she wanted to open a cafe that aimed at university students, and so she wanted to pick an area of London which is close to a university, but did not have many cafes (the least, actually.)\n"
   ]
  },
  {
   "cell_type": "markdown",
   "metadata": {},
   "source": [
    "### The Data###\n",
    "Our company did not have any data regarding this particular matter. So, here is what we used:<br>\n",
    "1. We acquired a list of universities in London from the relevant Wikipedia page.\n",
    "2. For each university, we looked up its coordinates from Foursquare. We looped through the name of each university, and sent a SEARCH request to Foursquare API. This gave us the locations.\n",
    "3. Then, for each location (as per university) we sent another SEARCH request to Foursquare API. We used \"cafe\" as our query, and limited the radius. We did this because downtown universities may have many close and overlapping cafes. A large search radius would be misleading in our case. We used the length of the response as the number of cafes near each university.\n",
    "4. Then we clustered our dataset, as will be described in our \"Methodology\" section below.\n",
    "\n",
    "\n"
   ]
  },
  {
   "cell_type": "markdown",
   "metadata": {},
   "source": [
    "### Methodology###\n"
   ]
  },
  {
   "cell_type": "markdown",
   "metadata": {},
   "source": [
    "After the data gathering stage, we had our dataset ready for analysis. The data included:\n",
    "    * The name of each university\n",
    "    * It geographical coordinates (latitude and longtitude)\n",
    "    * The number of cafes in close vincinity.\n",
    "    \n",
    "First, we used the StandardScaler on our dataset, because coordinates and # of cafes have very different orders of magnitude. Not doing so would skew our results.\n",
    "<br>Then we used the K Means algorithm on our dataset, with 5 clusters. This resulted in 5 cluster centers and we used the groupby function in pandas to get the #of cafes per cluster. Afterwards, we chose the cluster with the lowest number and marked it on our map of London."
   ]
  },
  {
   "cell_type": "markdown",
   "metadata": {},
   "source": [
    "### Results###"
   ]
  },
  {
   "cell_type": "markdown",
   "metadata": {},
   "source": [
    "The place which had the lowest cafes near universities was Richmond Park. This is expected. Although the park had 3 universities nearby, the size of the park is so big, effectively making places around it afr away from each other.\n",
    "<br>We suggested our client that areas around Richmond Park have little competition in terms of cafes, and since it is distant from downtown London, there may be a niche market."
   ]
  },
  {
   "cell_type": "markdown",
   "metadata": {},
   "source": [
    "### Discussion###"
   ]
  },
  {
   "cell_type": "markdown",
   "metadata": {},
   "source": [
    "However, our business consultancy department wanted to advise Sally on her question of location.\n",
    "<br>\n",
    "\n",
    "Our first concern was that downtown areas and suburban areas have different population densities, transport infrastructure, and foot traffic.So, the sheer number of cafes may not be a good indicator of competition. In downtown areas and suburban areas, the criteria for walking distances are different. Ideally, we should define our search radia differently for urban and suburban areas, but this would bring additional difficulties, because defining walking distance individually is hard.\n",
    "<br>\n",
    "\n",
    "Second, we advised Sally Python not to concentrate on competition alone, since it should be one criteria among other in forecasting earnings for a business."
   ]
  },
  {
   "cell_type": "markdown",
   "metadata": {},
   "source": [
    "### Conclusion###"
   ]
  },
  {
   "cell_type": "markdown",
   "metadata": {},
   "source": [
    "Sally Python should open a cafe near Richmond Park, London since it has a number of universities nearby, and a very low number of cafes."
   ]
  },
  {
   "cell_type": "code",
   "execution_count": null,
   "metadata": {},
   "outputs": [],
   "source": []
  }
 ],
 "metadata": {
  "kernelspec": {
   "display_name": "Python",
   "language": "python",
   "name": "conda-env-python-py"
  },
  "language_info": {
   "codemirror_mode": {
    "name": "ipython",
    "version": 3
   },
   "file_extension": ".py",
   "mimetype": "text/x-python",
   "name": "python",
   "nbconvert_exporter": "python",
   "pygments_lexer": "ipython3",
   "version": "3.6.7"
  }
 },
 "nbformat": 4,
 "nbformat_minor": 4
}
